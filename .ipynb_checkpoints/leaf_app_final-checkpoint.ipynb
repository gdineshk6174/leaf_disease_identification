{
 "cells": [
  {
   "cell_type": "code",
   "execution_count": 1,
   "id": "ae4a19ea",
   "metadata": {},
   "outputs": [],
   "source": [
    "from fastai.vision.all import *\n",
    "from fastai.vision.widgets import *\n",
    "import urllib.request"
   ]
  },
  {
   "cell_type": "code",
   "execution_count": 2,
   "id": "73d6f909",
   "metadata": {},
   "outputs": [],
   "source": [
    "# # path_error solution \n",
    "# import pathlib\n",
    "# temp = pathlib.PosixPath\n",
    "# pathlib.PosixPath = pathlib.WindowsPath"
   ]
  },
  {
   "cell_type": "code",
   "execution_count": 3,
   "id": "ced2ba20",
   "metadata": {},
   "outputs": [],
   "source": [
    "\n",
    "path = Path()\n",
    "learn_inf = load_learner(path/'export.pkl', cpu=True)\n",
    "# learner = load_learner(Path(\".\"), \"export.pkl\")\n",
    "\n",
    "btn_upload = widgets.FileUpload()\n",
    "out_pl = widgets.Output()\n",
    "lbl_pred = widgets.Label()"
   ]
  },
  {
   "cell_type": "code",
   "execution_count": 4,
   "id": "f27a036a",
   "metadata": {},
   "outputs": [],
   "source": [
    "# Create interface\n",
    "\n",
    "def on_data_change(change):\n",
    "    lbl_pred.value = ''\n",
    "    \n",
    "    # Load Image\n",
    "    img = PILImage.create(btn_upload.data[-1])\n",
    "    out_pl.clear_output()\n",
    "    with out_pl:\n",
    "        display(img.to_thumb(224,244))\n",
    "    \n",
    "    # Predict image\n",
    "    pred, pred_idx, probs = learn_inf.predict(img)\n",
    "    \n",
    "    lbl_pred.value = f'Prediction: {pred}; Probability: {probs[pred_idx]:.04f}'"
   ]
  },
  {
   "cell_type": "code",
   "execution_count": 8,
   "id": "8c4f6cfb",
   "metadata": {},
   "outputs": [
    {
     "data": {
      "application/vnd.jupyter.widget-view+json": {
       "model_id": "0a960e83a0d7423080cc2d67d27ab67a",
       "version_major": 2,
       "version_minor": 0
      },
      "text/plain": [
       "VBox(children=(Label(value='\"Upload\"the picture of a leaf which has a disease '), FileUpload(value={'SCAB.jpg'…"
      ]
     },
     "metadata": {},
     "output_type": "display_data"
    }
   ],
   "source": [
    "\n",
    "btn_upload.observe(on_data_change, names=['data'])\n",
    "\n",
    "# Display Predictions\n",
    "display(VBox([widgets.Label('\"Upload\"the picture of a leaf which has a disease '), btn_upload, out_pl, lbl_pred]))"
   ]
  }
 ],
 "metadata": {
  "kernelspec": {
   "display_name": "fastai",
   "language": "python",
   "name": "fastai"
  },
  "language_info": {
   "codemirror_mode": {
    "name": "ipython",
    "version": 3
   },
   "file_extension": ".py",
   "mimetype": "text/x-python",
   "name": "python",
   "nbconvert_exporter": "python",
   "pygments_lexer": "ipython3",
   "version": "3.7.11"
  }
 },
 "nbformat": 4,
 "nbformat_minor": 5
}
